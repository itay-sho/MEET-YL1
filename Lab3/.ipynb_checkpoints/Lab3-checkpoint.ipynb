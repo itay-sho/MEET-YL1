{
 "metadata": {
  "name": ""
 },
 "nbformat": 3,
 "nbformat_minor": 0,
 "worksheets": [
  {
   "cells": [
    {
     "cell_type": "code",
     "collapsed": false,
     "input": [
      "import csv"
     ],
     "language": "python",
     "metadata": {},
     "outputs": [],
     "prompt_number": 53
    },
    {
     "cell_type": "code",
     "collapsed": false,
     "input": [
      "f = open('cig.csv','rb')\n",
      "reader = csv.reader(f)\n",
      "\n",
      "nicotineContect = []\n",
      "tarContect = []\n",
      "\n",
      "\n",
      "for row in reader:\n",
      "    row[0] = row[0].split()\n",
      "    row[0][1:] = map(float, row[0][1:])\n",
      "    nicotineContect.append(row[0][1])\n",
      "    tarContect.append(row[0][2])\n",
      "    \n",
      "print tarContect\n",
      "print nicotineContect\n",
      "f.close()"
     ],
     "language": "python",
     "metadata": {},
     "outputs": [
      {
       "output_type": "stream",
       "stream": "stdout",
       "text": [
        "[0.86, 1.06, 2.03, 0.67, 0.4, 1.04, 0.76, 0.95, 1.12, 1.02, 1.01, 0.9, 0.57, 0.78, 0.74, 0.13, 1.26, 1.08, 0.96, 0.42, 1.01, 0.61, 0.69, 1.02, 0.82]\n",
        "[14.1, 16.0, 29.8, 8.0, 4.1, 15.0, 8.8, 12.4, 16.6, 14.9, 13.7, 15.1, 7.8, 11.4, 9.0, 1.0, 17.0, 12.8, 15.8, 4.5, 14.5, 7.3, 8.6, 15.2, 12.0]\n"
       ]
      }
     ],
     "prompt_number": 54
    },
    {
     "cell_type": "code",
     "collapsed": false,
     "input": [
      "from pylab import *\n",
      "scatter(tarContect, nicotineContect)\n",
      "savefig('cig_scatter.png')"
     ],
     "language": "python",
     "metadata": {},
     "outputs": [
      {
       "metadata": {},
       "output_type": "pyout",
       "prompt_number": 55,
       "text": [
        "<matplotlib.collections.PathCollection at 0xa32aecc>"
       ]
      },
      {
       "metadata": {},
       "output_type": "display_data",
       "png": "[encoded data removed]",
       "text": [
        "<matplotlib.figure.Figure at 0xa17d20c>"
       ]
      }
     ],
     "prompt_number": 55
    },
    {
     "cell_type": "code",
     "collapsed": false,
     "input": [],
     "language": "python",
     "metadata": {},
     "outputs": [],
     "prompt_number": 15
    },
    {
     "cell_type": "code",
     "collapsed": false,
     "input": [],
     "language": "python",
     "metadata": {},
     "outputs": [],
     "prompt_number": 15
    },
    {
     "cell_type": "code",
     "collapsed": false,
     "input": [],
     "language": "python",
     "metadata": {},
     "outputs": [],
     "prompt_number": 15
    },
    {
     "cell_type": "code",
     "collapsed": false,
     "input": [],
     "language": "python",
     "metadata": {},
     "outputs": []
    }
   ],
   "metadata": {}
  }
 ]
}